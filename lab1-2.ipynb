{
 "cells": [
  {
   "cell_type": "markdown",
   "id": "5c440c34",
   "metadata": {},
   "source": [
    "Машинное обучение. Лабораторная работа №1-2. \n",
    "Макаренкова В.М., группа М80-306Б-18"
   ]
  },
  {
   "cell_type": "code",
   "execution_count": 1,
   "id": "319c9925",
   "metadata": {},
   "outputs": [],
   "source": [
    "import numpy as np \n",
    "import pandas as pd \n",
    "import matplotlib.pyplot as plt\n",
    "import seaborn as sns\n",
    "from sklearn.neighbors import KNeighborsClassifier \n",
    "from sklearn.linear_model import LogisticRegression\n",
    "from sklearn.naive_bayes import GaussianNB\n",
    "from sklearn.ensemble import RandomForestClassifier\n",
    "from sklearn.tree import DecisionTreeClassifier \n",
    "from sklearn.model_selection import train_test_split\n",
    "from sklearn.preprocessing import LabelEncoder\n",
    "import warnings\n",
    "warnings.filterwarnings('ignore')\n",
    "from collections import Counter, namedtuple\n",
    "from scipy.stats import mode\n",
    "from sklearn.model_selection import KFold\n",
    "from sklearn.metrics import accuracy_score\n",
    "from sklearn.metrics import precision_score\n",
    "from sklearn.metrics import recall_score\n",
    "from sklearn import tree\n"
   ]
  },
  {
   "cell_type": "markdown",
   "id": "28a73384",
   "metadata": {},
   "source": [
    "### О датасете "
   ]
  },
  {
   "cell_type": "markdown",
   "id": "c5d40b48",
   "metadata": {},
   "source": [
    "Датасет взят с сайта www.kaggle.com, он содержит информацию о пациентах и их показателях здоровья, а так же о вероятности сердечного приступа у них, где 0 - низкая вероятность, 1 - высокая вероятность."
   ]
  },
  {
   "cell_type": "code",
   "execution_count": 2,
   "id": "4ecd38a0",
   "metadata": {
    "scrolled": true
   },
   "outputs": [
    {
     "data": {
      "text/html": [
       "<div>\n",
       "<style scoped>\n",
       "    .dataframe tbody tr th:only-of-type {\n",
       "        vertical-align: middle;\n",
       "    }\n",
       "\n",
       "    .dataframe tbody tr th {\n",
       "        vertical-align: top;\n",
       "    }\n",
       "\n",
       "    .dataframe thead th {\n",
       "        text-align: right;\n",
       "    }\n",
       "</style>\n",
       "<table border=\"1\" class=\"dataframe\">\n",
       "  <thead>\n",
       "    <tr style=\"text-align: right;\">\n",
       "      <th></th>\n",
       "      <th>age</th>\n",
       "      <th>sex</th>\n",
       "      <th>cp</th>\n",
       "      <th>trestbps</th>\n",
       "      <th>chol</th>\n",
       "      <th>fbs</th>\n",
       "      <th>restecg</th>\n",
       "      <th>thalach</th>\n",
       "      <th>exang</th>\n",
       "      <th>oldpeak</th>\n",
       "      <th>slope</th>\n",
       "      <th>ca</th>\n",
       "      <th>thal</th>\n",
       "      <th>target</th>\n",
       "    </tr>\n",
       "  </thead>\n",
       "  <tbody>\n",
       "    <tr>\n",
       "      <th>0</th>\n",
       "      <td>63</td>\n",
       "      <td>1</td>\n",
       "      <td>3</td>\n",
       "      <td>145</td>\n",
       "      <td>233</td>\n",
       "      <td>1</td>\n",
       "      <td>0</td>\n",
       "      <td>150</td>\n",
       "      <td>0</td>\n",
       "      <td>2.3</td>\n",
       "      <td>0</td>\n",
       "      <td>0</td>\n",
       "      <td>1</td>\n",
       "      <td>1</td>\n",
       "    </tr>\n",
       "    <tr>\n",
       "      <th>1</th>\n",
       "      <td>37</td>\n",
       "      <td>1</td>\n",
       "      <td>2</td>\n",
       "      <td>130</td>\n",
       "      <td>250</td>\n",
       "      <td>0</td>\n",
       "      <td>1</td>\n",
       "      <td>187</td>\n",
       "      <td>0</td>\n",
       "      <td>3.5</td>\n",
       "      <td>0</td>\n",
       "      <td>0</td>\n",
       "      <td>2</td>\n",
       "      <td>1</td>\n",
       "    </tr>\n",
       "    <tr>\n",
       "      <th>2</th>\n",
       "      <td>41</td>\n",
       "      <td>0</td>\n",
       "      <td>1</td>\n",
       "      <td>130</td>\n",
       "      <td>204</td>\n",
       "      <td>0</td>\n",
       "      <td>0</td>\n",
       "      <td>172</td>\n",
       "      <td>0</td>\n",
       "      <td>1.4</td>\n",
       "      <td>2</td>\n",
       "      <td>0</td>\n",
       "      <td>2</td>\n",
       "      <td>1</td>\n",
       "    </tr>\n",
       "    <tr>\n",
       "      <th>3</th>\n",
       "      <td>56</td>\n",
       "      <td>1</td>\n",
       "      <td>1</td>\n",
       "      <td>120</td>\n",
       "      <td>236</td>\n",
       "      <td>0</td>\n",
       "      <td>1</td>\n",
       "      <td>178</td>\n",
       "      <td>0</td>\n",
       "      <td>0.8</td>\n",
       "      <td>2</td>\n",
       "      <td>0</td>\n",
       "      <td>2</td>\n",
       "      <td>1</td>\n",
       "    </tr>\n",
       "    <tr>\n",
       "      <th>4</th>\n",
       "      <td>57</td>\n",
       "      <td>0</td>\n",
       "      <td>0</td>\n",
       "      <td>120</td>\n",
       "      <td>354</td>\n",
       "      <td>0</td>\n",
       "      <td>1</td>\n",
       "      <td>163</td>\n",
       "      <td>1</td>\n",
       "      <td>0.6</td>\n",
       "      <td>2</td>\n",
       "      <td>0</td>\n",
       "      <td>2</td>\n",
       "      <td>1</td>\n",
       "    </tr>\n",
       "  </tbody>\n",
       "</table>\n",
       "</div>"
      ],
      "text/plain": [
       "   age  sex  cp  trestbps  chol  fbs  restecg  thalach  exang  oldpeak  slope  \\\n",
       "0   63    1   3       145   233    1        0      150      0      2.3      0   \n",
       "1   37    1   2       130   250    0        1      187      0      3.5      0   \n",
       "2   41    0   1       130   204    0        0      172      0      1.4      2   \n",
       "3   56    1   1       120   236    0        1      178      0      0.8      2   \n",
       "4   57    0   0       120   354    0        1      163      1      0.6      2   \n",
       "\n",
       "   ca  thal  target  \n",
       "0   0     1       1  \n",
       "1   0     2       1  \n",
       "2   0     2       1  \n",
       "3   0     2       1  \n",
       "4   0     2       1  "
      ]
     },
     "execution_count": 2,
     "metadata": {},
     "output_type": "execute_result"
    }
   ],
   "source": [
    "ds = pd.read_csv('heart.csv')\n",
    "ds.head()"
   ]
  },
  {
   "cell_type": "markdown",
   "id": "b465eeca",
   "metadata": {},
   "source": [
    "age - возраст\n",
    "\n",
    "sex - пол\n",
    "\n",
    "cp - тип боли в груди\n",
    "\n",
    "trestbps - артериальное давление в состоянии покоя\n",
    "\n",
    "chol - холестерин\n",
    "\n",
    "fbs - больше ли уровень сахара натощак 120 мг/дл\n",
    "\n",
    "restecg - ЭКГ в покое\n",
    "\n",
    "thalach - максимальная частота сердцебиения \n",
    "\n",
    "exang - наличие стенокардии во время физической нагрузки \n",
    "\n",
    "oldpeak - ST-депрессия после нагрузки относительно состояния покоя \n",
    "\n",
    "slope - тип наклона\n",
    "\n",
    "ca - количество крупных сосудов (0-3), окрашенных флурозопией\n",
    "\n",
    "thal - оценка сердцебиения\n",
    "\n",
    "target (the predicted attribute) - шанс возникновения сердечного приступа"
   ]
  },
  {
   "cell_type": "markdown",
   "id": "58fc310e",
   "metadata": {},
   "source": [
    "#### Подготовим данные для дальнейшей работы : проверим пропуски и ошибки и приведем к читабельному виду."
   ]
  },
  {
   "cell_type": "code",
   "execution_count": 3,
   "id": "072958c3",
   "metadata": {},
   "outputs": [
    {
     "data": {
      "text/plain": [
       "age         0\n",
       "sex         0\n",
       "cp          0\n",
       "trestbps    0\n",
       "chol        0\n",
       "fbs         0\n",
       "restecg     0\n",
       "thalach     0\n",
       "exang       0\n",
       "oldpeak     0\n",
       "slope       0\n",
       "ca          0\n",
       "thal        0\n",
       "target      0\n",
       "dtype: int64"
      ]
     },
     "execution_count": 3,
     "metadata": {},
     "output_type": "execute_result"
    }
   ],
   "source": [
    "ds.isnull().sum()"
   ]
  },
  {
   "cell_type": "code",
   "execution_count": 4,
   "id": "15d76d66",
   "metadata": {},
   "outputs": [
    {
     "name": "stdout",
     "output_type": "stream",
     "text": [
      "age\n",
      "[63 37 41 56 57 44 52 54 48 49 64 58 50 66 43 69 59 42 61 40 71 51 65 53\n",
      " 46 45 39 47 62 34 35 29 55 60 67 68 74 76 70 38 77]\n",
      "sex\n",
      "[1 0]\n",
      "cp\n",
      "[3 2 1 0]\n",
      "trestbps\n",
      "[145 130 120 140 172 150 110 135 160 105 125 142 155 104 138 128 108 134\n",
      " 122 115 118 100 124  94 112 102 152 101 132 148 178 129 180 136 126 106\n",
      " 156 170 146 117 200 165 174 192 144 123 154 114 164]\n",
      "chol\n",
      "[233 250 204 236 354 192 294 263 199 168 239 275 266 211 283 219 340 226\n",
      " 247 234 243 302 212 175 417 197 198 177 273 213 304 232 269 360 308 245\n",
      " 208 264 321 325 235 257 216 256 231 141 252 201 222 260 182 303 265 309\n",
      " 186 203 183 220 209 258 227 261 221 205 240 318 298 564 277 214 248 255\n",
      " 207 223 288 160 394 315 246 244 270 195 196 254 126 313 262 215 193 271\n",
      " 268 267 210 295 306 178 242 180 228 149 278 253 342 157 286 229 284 224\n",
      " 206 167 230 335 276 353 225 330 290 172 305 188 282 185 326 274 164 307\n",
      " 249 341 407 217 174 281 289 322 299 300 293 184 409 259 200 327 237 218\n",
      " 319 166 311 169 187 176 241 131]\n",
      "fbs\n",
      "[1 0]\n",
      "restecg\n",
      "[0 1 2]\n",
      "thalach\n",
      "[150 187 172 178 163 148 153 173 162 174 160 139 171 144 158 114 151 161\n",
      " 179 137 157 123 152 168 140 188 125 170 165 142 180 143 182 156 115 149\n",
      " 146 175 186 185 159 130 190 132 147 154 202 166 164 184 122 169 138 111\n",
      " 145 194 131 133 155 167 192 121  96 126 105 181 116 108 129 120 112 128\n",
      " 109 113  99 177 141 136  97 127 103 124  88 195 106  95 117  71 118 134\n",
      "  90]\n",
      "exang\n",
      "[0 1]\n",
      "oldpeak\n",
      "[2.3 3.5 1.4 0.8 0.6 0.4 1.3 0.  0.5 1.6 1.2 0.2 1.8 1.  2.6 1.5 3.  2.4\n",
      " 0.1 1.9 4.2 1.1 2.  0.7 0.3 0.9 3.6 3.1 3.2 2.5 2.2 2.8 3.4 6.2 4.  5.6\n",
      " 2.9 2.1 3.8 4.4]\n",
      "slope\n",
      "[0 2 1]\n",
      "ca\n",
      "[0 2 1 3 4]\n",
      "thal\n",
      "[1 2 3 0]\n",
      "target\n",
      "[1 0]\n"
     ]
    }
   ],
   "source": [
    "for column in ds.columns:\n",
    "    print(column)\n",
    "    print(ds[column].unique())"
   ]
  },
  {
   "cell_type": "markdown",
   "id": "6e60d073",
   "metadata": {},
   "source": [
    "В датасете нет пропусков, но есть ошибки, удаляем записи с недопустимыми значениями ca и thal"
   ]
  },
  {
   "cell_type": "code",
   "execution_count": 5,
   "id": "77be1fcc",
   "metadata": {},
   "outputs": [],
   "source": [
    "ds.drop([48, 92, 158, 163, 164, 251, 281], inplace = True)\n"
   ]
  },
  {
   "cell_type": "code",
   "execution_count": 6,
   "id": "33134518",
   "metadata": {
    "scrolled": true
   },
   "outputs": [
    {
     "name": "stdout",
     "output_type": "stream",
     "text": [
      "ca\n",
      "[0 2 1 3]\n",
      "thal\n",
      "[1 2 3]\n"
     ]
    }
   ],
   "source": [
    "print('ca')\n",
    "print(ds.ca.unique())\n",
    "print('thal')\n",
    "print(ds.thal.unique())"
   ]
  },
  {
   "cell_type": "markdown",
   "id": "9a55b5b8",
   "metadata": {},
   "source": [
    "Переименуем колонки для удобства"
   ]
  },
  {
   "cell_type": "code",
   "execution_count": 7,
   "id": "b7d6d670",
   "metadata": {},
   "outputs": [
    {
     "data": {
      "text/html": [
       "<div>\n",
       "<style scoped>\n",
       "    .dataframe tbody tr th:only-of-type {\n",
       "        vertical-align: middle;\n",
       "    }\n",
       "\n",
       "    .dataframe tbody tr th {\n",
       "        vertical-align: top;\n",
       "    }\n",
       "\n",
       "    .dataframe thead th {\n",
       "        text-align: right;\n",
       "    }\n",
       "</style>\n",
       "<table border=\"1\" class=\"dataframe\">\n",
       "  <thead>\n",
       "    <tr style=\"text-align: right;\">\n",
       "      <th></th>\n",
       "      <th>Age</th>\n",
       "      <th>Sex</th>\n",
       "      <th>Pain type</th>\n",
       "      <th>Blood pressure</th>\n",
       "      <th>Cholesterol</th>\n",
       "      <th>Blood sugar</th>\n",
       "      <th>ECG</th>\n",
       "      <th>Max heart rate</th>\n",
       "      <th>Exercise induced angina</th>\n",
       "      <th>ST depression</th>\n",
       "      <th>ST slope</th>\n",
       "      <th>Number major vessels</th>\n",
       "      <th>Thalassemia</th>\n",
       "      <th>Attack</th>\n",
       "    </tr>\n",
       "  </thead>\n",
       "  <tbody>\n",
       "    <tr>\n",
       "      <th>0</th>\n",
       "      <td>63</td>\n",
       "      <td>1</td>\n",
       "      <td>3</td>\n",
       "      <td>145</td>\n",
       "      <td>233</td>\n",
       "      <td>1</td>\n",
       "      <td>0</td>\n",
       "      <td>150</td>\n",
       "      <td>0</td>\n",
       "      <td>2.3</td>\n",
       "      <td>0</td>\n",
       "      <td>0</td>\n",
       "      <td>1</td>\n",
       "      <td>0</td>\n",
       "    </tr>\n",
       "    <tr>\n",
       "      <th>1</th>\n",
       "      <td>37</td>\n",
       "      <td>1</td>\n",
       "      <td>2</td>\n",
       "      <td>130</td>\n",
       "      <td>250</td>\n",
       "      <td>0</td>\n",
       "      <td>1</td>\n",
       "      <td>187</td>\n",
       "      <td>0</td>\n",
       "      <td>3.5</td>\n",
       "      <td>0</td>\n",
       "      <td>0</td>\n",
       "      <td>2</td>\n",
       "      <td>0</td>\n",
       "    </tr>\n",
       "    <tr>\n",
       "      <th>2</th>\n",
       "      <td>41</td>\n",
       "      <td>0</td>\n",
       "      <td>1</td>\n",
       "      <td>130</td>\n",
       "      <td>204</td>\n",
       "      <td>0</td>\n",
       "      <td>0</td>\n",
       "      <td>172</td>\n",
       "      <td>0</td>\n",
       "      <td>1.4</td>\n",
       "      <td>2</td>\n",
       "      <td>0</td>\n",
       "      <td>2</td>\n",
       "      <td>0</td>\n",
       "    </tr>\n",
       "    <tr>\n",
       "      <th>3</th>\n",
       "      <td>56</td>\n",
       "      <td>1</td>\n",
       "      <td>1</td>\n",
       "      <td>120</td>\n",
       "      <td>236</td>\n",
       "      <td>0</td>\n",
       "      <td>1</td>\n",
       "      <td>178</td>\n",
       "      <td>0</td>\n",
       "      <td>0.8</td>\n",
       "      <td>2</td>\n",
       "      <td>0</td>\n",
       "      <td>2</td>\n",
       "      <td>0</td>\n",
       "    </tr>\n",
       "    <tr>\n",
       "      <th>4</th>\n",
       "      <td>57</td>\n",
       "      <td>0</td>\n",
       "      <td>0</td>\n",
       "      <td>120</td>\n",
       "      <td>354</td>\n",
       "      <td>0</td>\n",
       "      <td>1</td>\n",
       "      <td>163</td>\n",
       "      <td>1</td>\n",
       "      <td>0.6</td>\n",
       "      <td>2</td>\n",
       "      <td>0</td>\n",
       "      <td>2</td>\n",
       "      <td>0</td>\n",
       "    </tr>\n",
       "  </tbody>\n",
       "</table>\n",
       "</div>"
      ],
      "text/plain": [
       "   Age  Sex  Pain type  Blood pressure  Cholesterol  Blood sugar  ECG  \\\n",
       "0   63    1          3             145          233            1    0   \n",
       "1   37    1          2             130          250            0    1   \n",
       "2   41    0          1             130          204            0    0   \n",
       "3   56    1          1             120          236            0    1   \n",
       "4   57    0          0             120          354            0    1   \n",
       "\n",
       "   Max heart rate  Exercise induced angina  ST depression  ST slope  \\\n",
       "0             150                        0            2.3         0   \n",
       "1             187                        0            3.5         0   \n",
       "2             172                        0            1.4         2   \n",
       "3             178                        0            0.8         2   \n",
       "4             163                        1            0.6         2   \n",
       "\n",
       "   Number major vessels  Thalassemia  Attack  \n",
       "0                     0            1       0  \n",
       "1                     0            2       0  \n",
       "2                     0            2       0  \n",
       "3                     0            2       0  \n",
       "4                     0            2       0  "
      ]
     },
     "execution_count": 7,
     "metadata": {},
     "output_type": "execute_result"
    }
   ],
   "source": [
    "ds.columns = ['Age', 'Sex', 'Pain type',\n",
    "              'Blood pressure', 'Cholesterol', 'Blood sugar',\n",
    "              'ECG', 'Max heart rate', 'Exercise induced angina',\n",
    "              'ST depression', 'ST slope', 'Number major vessels',\n",
    "              'Thalassemia', 'Attack']\n",
    "ds.replace({'Attack':{0:1, 1:0}}, inplace = True)\n",
    "ds.head()"
   ]
  },
  {
   "cell_type": "code",
   "execution_count": 8,
   "id": "42d835ac",
   "metadata": {},
   "outputs": [
    {
     "data": {
      "text/html": [
       "<div>\n",
       "<style scoped>\n",
       "    .dataframe tbody tr th:only-of-type {\n",
       "        vertical-align: middle;\n",
       "    }\n",
       "\n",
       "    .dataframe tbody tr th {\n",
       "        vertical-align: top;\n",
       "    }\n",
       "\n",
       "    .dataframe thead th {\n",
       "        text-align: right;\n",
       "    }\n",
       "</style>\n",
       "<table border=\"1\" class=\"dataframe\">\n",
       "  <thead>\n",
       "    <tr style=\"text-align: right;\">\n",
       "      <th></th>\n",
       "      <th>Age</th>\n",
       "      <th>Sex</th>\n",
       "      <th>Pain type</th>\n",
       "      <th>Blood pressure</th>\n",
       "      <th>Cholesterol</th>\n",
       "      <th>Blood sugar</th>\n",
       "      <th>ECG</th>\n",
       "      <th>Max heart rate</th>\n",
       "      <th>Exercise induced angina</th>\n",
       "      <th>ST depression</th>\n",
       "      <th>ST slope</th>\n",
       "      <th>Number major vessels</th>\n",
       "      <th>Thalassemia</th>\n",
       "      <th>Attack</th>\n",
       "    </tr>\n",
       "  </thead>\n",
       "  <tbody>\n",
       "    <tr>\n",
       "      <th>count</th>\n",
       "      <td>296.000000</td>\n",
       "      <td>296.000000</td>\n",
       "      <td>296.000000</td>\n",
       "      <td>296.00000</td>\n",
       "      <td>296.000000</td>\n",
       "      <td>296.00000</td>\n",
       "      <td>296.000000</td>\n",
       "      <td>296.000000</td>\n",
       "      <td>296.000000</td>\n",
       "      <td>296.000000</td>\n",
       "      <td>296.000000</td>\n",
       "      <td>296.000000</td>\n",
       "      <td>296.000000</td>\n",
       "      <td>296.000000</td>\n",
       "    </tr>\n",
       "    <tr>\n",
       "      <th>mean</th>\n",
       "      <td>54.523649</td>\n",
       "      <td>0.679054</td>\n",
       "      <td>0.959459</td>\n",
       "      <td>131.60473</td>\n",
       "      <td>247.155405</td>\n",
       "      <td>0.14527</td>\n",
       "      <td>0.523649</td>\n",
       "      <td>149.560811</td>\n",
       "      <td>0.327703</td>\n",
       "      <td>1.059122</td>\n",
       "      <td>1.395270</td>\n",
       "      <td>0.679054</td>\n",
       "      <td>2.327703</td>\n",
       "      <td>0.459459</td>\n",
       "    </tr>\n",
       "    <tr>\n",
       "      <th>std</th>\n",
       "      <td>9.059471</td>\n",
       "      <td>0.467631</td>\n",
       "      <td>1.034184</td>\n",
       "      <td>17.72662</td>\n",
       "      <td>51.977011</td>\n",
       "      <td>0.35297</td>\n",
       "      <td>0.526692</td>\n",
       "      <td>22.970792</td>\n",
       "      <td>0.470171</td>\n",
       "      <td>1.166474</td>\n",
       "      <td>0.618235</td>\n",
       "      <td>0.939726</td>\n",
       "      <td>0.585743</td>\n",
       "      <td>0.499198</td>\n",
       "    </tr>\n",
       "    <tr>\n",
       "      <th>min</th>\n",
       "      <td>29.000000</td>\n",
       "      <td>0.000000</td>\n",
       "      <td>0.000000</td>\n",
       "      <td>94.00000</td>\n",
       "      <td>126.000000</td>\n",
       "      <td>0.00000</td>\n",
       "      <td>0.000000</td>\n",
       "      <td>71.000000</td>\n",
       "      <td>0.000000</td>\n",
       "      <td>0.000000</td>\n",
       "      <td>0.000000</td>\n",
       "      <td>0.000000</td>\n",
       "      <td>1.000000</td>\n",
       "      <td>0.000000</td>\n",
       "    </tr>\n",
       "    <tr>\n",
       "      <th>25%</th>\n",
       "      <td>48.000000</td>\n",
       "      <td>0.000000</td>\n",
       "      <td>0.000000</td>\n",
       "      <td>120.00000</td>\n",
       "      <td>211.000000</td>\n",
       "      <td>0.00000</td>\n",
       "      <td>0.000000</td>\n",
       "      <td>133.000000</td>\n",
       "      <td>0.000000</td>\n",
       "      <td>0.000000</td>\n",
       "      <td>1.000000</td>\n",
       "      <td>0.000000</td>\n",
       "      <td>2.000000</td>\n",
       "      <td>0.000000</td>\n",
       "    </tr>\n",
       "    <tr>\n",
       "      <th>50%</th>\n",
       "      <td>56.000000</td>\n",
       "      <td>1.000000</td>\n",
       "      <td>1.000000</td>\n",
       "      <td>130.00000</td>\n",
       "      <td>242.500000</td>\n",
       "      <td>0.00000</td>\n",
       "      <td>1.000000</td>\n",
       "      <td>152.500000</td>\n",
       "      <td>0.000000</td>\n",
       "      <td>0.800000</td>\n",
       "      <td>1.000000</td>\n",
       "      <td>0.000000</td>\n",
       "      <td>2.000000</td>\n",
       "      <td>0.000000</td>\n",
       "    </tr>\n",
       "    <tr>\n",
       "      <th>75%</th>\n",
       "      <td>61.000000</td>\n",
       "      <td>1.000000</td>\n",
       "      <td>2.000000</td>\n",
       "      <td>140.00000</td>\n",
       "      <td>275.250000</td>\n",
       "      <td>0.00000</td>\n",
       "      <td>1.000000</td>\n",
       "      <td>166.000000</td>\n",
       "      <td>1.000000</td>\n",
       "      <td>1.650000</td>\n",
       "      <td>2.000000</td>\n",
       "      <td>1.000000</td>\n",
       "      <td>3.000000</td>\n",
       "      <td>1.000000</td>\n",
       "    </tr>\n",
       "    <tr>\n",
       "      <th>max</th>\n",
       "      <td>77.000000</td>\n",
       "      <td>1.000000</td>\n",
       "      <td>3.000000</td>\n",
       "      <td>200.00000</td>\n",
       "      <td>564.000000</td>\n",
       "      <td>1.00000</td>\n",
       "      <td>2.000000</td>\n",
       "      <td>202.000000</td>\n",
       "      <td>1.000000</td>\n",
       "      <td>6.200000</td>\n",
       "      <td>2.000000</td>\n",
       "      <td>3.000000</td>\n",
       "      <td>3.000000</td>\n",
       "      <td>1.000000</td>\n",
       "    </tr>\n",
       "  </tbody>\n",
       "</table>\n",
       "</div>"
      ],
      "text/plain": [
       "              Age         Sex   Pain type  Blood pressure  Cholesterol  \\\n",
       "count  296.000000  296.000000  296.000000       296.00000   296.000000   \n",
       "mean    54.523649    0.679054    0.959459       131.60473   247.155405   \n",
       "std      9.059471    0.467631    1.034184        17.72662    51.977011   \n",
       "min     29.000000    0.000000    0.000000        94.00000   126.000000   \n",
       "25%     48.000000    0.000000    0.000000       120.00000   211.000000   \n",
       "50%     56.000000    1.000000    1.000000       130.00000   242.500000   \n",
       "75%     61.000000    1.000000    2.000000       140.00000   275.250000   \n",
       "max     77.000000    1.000000    3.000000       200.00000   564.000000   \n",
       "\n",
       "       Blood sugar         ECG  Max heart rate  Exercise induced angina  \\\n",
       "count    296.00000  296.000000      296.000000               296.000000   \n",
       "mean       0.14527    0.523649      149.560811                 0.327703   \n",
       "std        0.35297    0.526692       22.970792                 0.470171   \n",
       "min        0.00000    0.000000       71.000000                 0.000000   \n",
       "25%        0.00000    0.000000      133.000000                 0.000000   \n",
       "50%        0.00000    1.000000      152.500000                 0.000000   \n",
       "75%        0.00000    1.000000      166.000000                 1.000000   \n",
       "max        1.00000    2.000000      202.000000                 1.000000   \n",
       "\n",
       "       ST depression    ST slope  Number major vessels  Thalassemia  \\\n",
       "count     296.000000  296.000000            296.000000   296.000000   \n",
       "mean        1.059122    1.395270              0.679054     2.327703   \n",
       "std         1.166474    0.618235              0.939726     0.585743   \n",
       "min         0.000000    0.000000              0.000000     1.000000   \n",
       "25%         0.000000    1.000000              0.000000     2.000000   \n",
       "50%         0.800000    1.000000              0.000000     2.000000   \n",
       "75%         1.650000    2.000000              1.000000     3.000000   \n",
       "max         6.200000    2.000000              3.000000     3.000000   \n",
       "\n",
       "           Attack  \n",
       "count  296.000000  \n",
       "mean     0.459459  \n",
       "std      0.499198  \n",
       "min      0.000000  \n",
       "25%      0.000000  \n",
       "50%      0.000000  \n",
       "75%      1.000000  \n",
       "max      1.000000  "
      ]
     },
     "execution_count": 8,
     "metadata": {},
     "output_type": "execute_result"
    }
   ],
   "source": [
    "ds.describe()"
   ]
  },
  {
   "cell_type": "markdown",
   "id": "19e6dc2e",
   "metadata": {},
   "source": [
    "Попробуем обнаружить корреляцию"
   ]
  },
  {
   "cell_type": "code",
   "execution_count": 9,
   "id": "57f6e4d6",
   "metadata": {
    "scrolled": true
   },
   "outputs": [
    {
     "data": {
      "image/png": "[encoded data removed]",
      "text/plain": [
       "<Figure size 432x288 with 25 Axes>"
      ]
     },
     "metadata": {
      "needs_background": "light"
     },
     "output_type": "display_data"
    }
   ],
   "source": [
    "col = ['Age', 'Blood pressure', 'Cholesterol', 'Max heart rate', 'ST depression']        \n",
    "pd.plotting.scatter_matrix(ds[col], alpha=0.2);"
   ]
  },
  {
   "cell_type": "markdown",
   "id": "6287a373",
   "metadata": {},
   "source": [
    "Корреляция между количественными признаками не обнаружена."
   ]
  },
  {
   "cell_type": "markdown",
   "id": "a269751d",
   "metadata": {},
   "source": [
    "### Проанализируем причину сердечных заболеваний."
   ]
  },
  {
   "cell_type": "code",
   "execution_count": 10,
   "id": "4b5fced9",
   "metadata": {},
   "outputs": [
    {
     "data": {
      "image/png": "[encoded data removed]",
      "text/plain": [
       "<Figure size 432x288 with 1 Axes>"
      ]
     },
     "metadata": {
      "needs_background": "light"
     },
     "output_type": "display_data"
    }
   ],
   "source": [
    "a = sns.kdeplot(ds[ds['Attack'] == 1]['Age'], shade = True)\n",
    "a = sns.kdeplot(ds[ds['Attack'] == 0]['Age'], shade = True)\n",
    "a = a.set_xlabel('Age')\n",
    "a = plt.legend(['High','Low'])"
   ]
  },
  {
   "cell_type": "code",
   "execution_count": 11,
   "id": "dab81816",
   "metadata": {},
   "outputs": [
    {
     "data": {
      "image/png": "[encoded data removed]",
      "text/plain": [
       "<Figure size 432x288 with 1 Axes>"
      ]
     },
     "metadata": {
      "needs_background": "light"
     },
     "output_type": "display_data"
    }
   ],
   "source": [
    "a = sns.countplot(data = ds, x = 'Pain type', hue = 'Attack')"
   ]
  },
  {
   "cell_type": "code",
   "execution_count": 12,
   "id": "d0be19f5",
   "metadata": {},
   "outputs": [
    {
     "data": {
      "image/png": "[encoded data removed]",
      "text/plain": [
       "<Figure size 432x288 with 1 Axes>"
      ]
     },
     "metadata": {
      "needs_background": "light"
     },
     "output_type": "display_data"
    }
   ],
   "source": [
    "a = sns.countplot(data = ds, x = 'Sex', hue = 'Attack')"
   ]
  },
  {
   "cell_type": "code",
   "execution_count": 13,
   "id": "45d2e509",
   "metadata": {},
   "outputs": [
    {
     "data": {
      "image/png": "[encoded data removed]",
      "text/plain": [
       "<Figure size 432x288 with 1 Axes>"
      ]
     },
     "metadata": {
      "needs_background": "light"
     },
     "output_type": "display_data"
    }
   ],
   "source": [
    "a = sns.countplot(data = ds, x = 'Blood sugar', hue = 'Attack')"
   ]
  },
  {
   "cell_type": "code",
   "execution_count": 14,
   "id": "60613f5b",
   "metadata": {},
   "outputs": [
    {
     "data": {
      "image/png": "[encoded data removed]",
      "text/plain": [
       "<Figure size 432x288 with 1 Axes>"
      ]
     },
     "metadata": {
      "needs_background": "light"
     },
     "output_type": "display_data"
    }
   ],
   "source": [
    "a = sns.countplot(data = ds, x = 'ECG', hue = 'Attack')"
   ]
  },
  {
   "cell_type": "code",
   "execution_count": 15,
   "id": "d4d7f4ba",
   "metadata": {},
   "outputs": [
    {
     "data": {
      "image/png": "[encoded data removed]",
      "text/plain": [
       "<Figure size 432x288 with 1 Axes>"
      ]
     },
     "metadata": {
      "needs_background": "light"
     },
     "output_type": "display_data"
    }
   ],
   "source": [
    "a = sns.boxplot(data = ds, x = 'Attack', y = 'Max heart rate')"
   ]
  },
  {
   "cell_type": "code",
   "execution_count": 16,
   "id": "96d8f111",
   "metadata": {},
   "outputs": [
    {
     "data": {
      "image/png": "[encoded data removed]",
      "text/plain": [
       "<Figure size 432x288 with 1 Axes>"
      ]
     },
     "metadata": {
      "needs_background": "light"
     },
     "output_type": "display_data"
    }
   ],
   "source": [
    "axes = sns.countplot(data = ds, x = 'Exercise induced angina', hue = 'Attack')"
   ]
  },
  {
   "cell_type": "code",
   "execution_count": 17,
   "id": "8c86c5fb",
   "metadata": {},
   "outputs": [
    {
     "data": {
      "image/png": "[encoded data removed]",
      "text/plain": [
       "<Figure size 432x288 with 1 Axes>"
      ]
     },
     "metadata": {
      "needs_background": "light"
     },
     "output_type": "display_data"
    }
   ],
   "source": [
    "a = sns.boxplot(data = ds, x = 'Attack', y = 'ST depression')"
   ]
  },
  {
   "cell_type": "code",
   "execution_count": 18,
   "id": "14822514",
   "metadata": {},
   "outputs": [
    {
     "data": {
      "image/png": "[encoded data removed]",
      "text/plain": [
       "<Figure size 432x288 with 1 Axes>"
      ]
     },
     "metadata": {
      "needs_background": "light"
     },
     "output_type": "display_data"
    }
   ],
   "source": [
    "a = sns.countplot(data = ds, x = 'ST slope', hue = 'Attack')"
   ]
  },
  {
   "cell_type": "code",
   "execution_count": 19,
   "id": "8f0d3fde",
   "metadata": {},
   "outputs": [
    {
     "data": {
      "image/png": "[encoded data removed]",
      "text/plain": [
       "<Figure size 432x288 with 1 Axes>"
      ]
     },
     "metadata": {
      "needs_background": "light"
     },
     "output_type": "display_data"
    }
   ],
   "source": [
    "a = sns.countplot(data = ds, x = 'Number major vessels', hue = 'Attack')"
   ]
  },
  {
   "cell_type": "code",
   "execution_count": 20,
   "id": "1d058274",
   "metadata": {},
   "outputs": [
    {
     "data": {
      "image/png": "[encoded data removed]",
      "text/plain": [
       "<Figure size 432x288 with 1 Axes>"
      ]
     },
     "metadata": {
      "needs_background": "light"
     },
     "output_type": "display_data"
    }
   ],
   "source": [
    "a = sns.countplot(data = ds, x = 'Thalassemia', hue = 'Attack')"
   ]
  },
  {
   "cell_type": "markdown",
   "id": "2b776f44",
   "metadata": {},
   "source": [
    "### Из представленных графиков можно извлечь следующую информацию:\n",
    "- Риск сердечного приступа больше всего у людей около 60 лет, преимущественно мужчин\n",
    "\n",
    "- Сердечный приступ чаще происходит у людей с бессимптомной болью в груди\n",
    "\n",
    "- Уровень сахара в крови не влияет на возникновение сердечного приступа\n",
    "\n",
    "- Низкий максимальный пульс - фактор риска\n",
    "\n",
    "- Вызванная физическими упражнениями стенокардия (Exercise induced angina), высокий уровень ST Depression, ST slope типа Flat и Талассемия обратимого дефекта (Reversible Defect) показывает больше случаев сердечного приступа\n"
   ]
  },
  {
   "cell_type": "code",
   "execution_count": 21,
   "id": "a806ac73",
   "metadata": {},
   "outputs": [
    {
     "data": {
      "image/png": "[encoded data removed]",
      "text/plain": [
       "<Figure size 432x288 with 1 Axes>"
      ]
     },
     "metadata": {},
     "output_type": "display_data"
    }
   ],
   "source": [
    "plt.figure()\n",
    "pd.Series(ds['Attack']).value_counts().sort_index().plot(kind = 'pie')\n",
    "plt.title('соотношение Low/High');"
   ]
  },
  {
   "cell_type": "markdown",
   "id": "a47a24aa",
   "metadata": {},
   "source": [
    "Датасет не нуждается в балансировке"
   ]
  },
  {
   "cell_type": "markdown",
   "id": "612d8bda",
   "metadata": {},
   "source": [
    "## Классификация (KNN, Logistic Regression, Naive Bayes Classifier, Decision Tree, Random Forest)"
   ]
  },
  {
   "cell_type": "code",
   "execution_count": 22,
   "id": "e3cf67ac",
   "metadata": {
    "scrolled": true
   },
   "outputs": [],
   "source": [
    "d = ds.reset_index(drop=True)\n",
    "data = d.sample(frac=1) "
   ]
  },
  {
   "cell_type": "code",
   "execution_count": 60,
   "id": "aa95dc3d",
   "metadata": {},
   "outputs": [],
   "source": [
    "X = data.drop(['Attack'], axis=1)\n",
    "y = data['Attack']\n",
    "X1 = data\n",
    "y1 = data['Attack']\n",
    "data = data.astype(int)\n",
    "\n",
    "normalized_df=(data-data.min())/(data.max()-data.min())\n",
    "df = normalized_df.reset_index(drop=True)\n",
    "X1 = normalized_df\n",
    "y1 = normalized_df['Attack']\n",
    "X2 = df.drop(['Attack'], axis=1)\n",
    "y2 = df['Attack']"
   ]
  },
  {
   "cell_type": "code",
   "execution_count": 24,
   "id": "4ffe9153",
   "metadata": {},
   "outputs": [],
   "source": [
    "def results(model, X, y, k_folds=5):\n",
    "    kf = KFold(n_splits=k_folds, random_state=16, shuffle=True)\n",
    "    scores = np.zeros(k_folds) \n",
    "    precisions = np.zeros(k_folds)\n",
    "    recalls = np.zeros(k_folds)\n",
    "    for i, (train_index, val_index) in enumerate(kf.split(X, y)):\n",
    "        X_train, y_train = X.loc[train_index].to_numpy(), y.loc[train_index].to_numpy()\n",
    "        X_val, y_val = X.loc[val_index].to_numpy(), y.loc[val_index].to_numpy()\n",
    "        model.fit(X_train, y_train)\n",
    "        y_pred = model.predict(X_val)\n",
    "        scores[i] = accuracy_score(y_val, y_pred)\n",
    "        precisions[i] = precision_score(y_val, y_pred)\n",
    "        recalls[i] = recall_score(y_val, y_pred)\n",
    "    return (scores, precisions, recalls)"
   ]
  },
  {
   "cell_type": "code",
   "execution_count": 25,
   "id": "d89d41af",
   "metadata": {},
   "outputs": [
    {
     "data": {
      "text/html": [
       "<div>\n",
       "<style scoped>\n",
       "    .dataframe tbody tr th:only-of-type {\n",
       "        vertical-align: middle;\n",
       "    }\n",
       "\n",
       "    .dataframe tbody tr th {\n",
       "        vertical-align: top;\n",
       "    }\n",
       "\n",
       "    .dataframe thead th {\n",
       "        text-align: right;\n",
       "    }\n",
       "</style>\n",
       "<table border=\"1\" class=\"dataframe\">\n",
       "  <thead>\n",
       "    <tr style=\"text-align: right;\">\n",
       "      <th></th>\n",
       "      <th>Age</th>\n",
       "      <th>Sex</th>\n",
       "      <th>Pain type</th>\n",
       "      <th>Blood pressure</th>\n",
       "      <th>Cholesterol</th>\n",
       "      <th>Blood sugar</th>\n",
       "      <th>ECG</th>\n",
       "      <th>Max heart rate</th>\n",
       "      <th>Exercise induced angina</th>\n",
       "      <th>ST depression</th>\n",
       "      <th>ST slope</th>\n",
       "      <th>Number major vessels</th>\n",
       "      <th>Thalassemia</th>\n",
       "      <th>Attack</th>\n",
       "    </tr>\n",
       "  </thead>\n",
       "  <tbody>\n",
       "    <tr>\n",
       "      <th>130</th>\n",
       "      <td>0.270833</td>\n",
       "      <td>1.0</td>\n",
       "      <td>0.333333</td>\n",
       "      <td>0.245283</td>\n",
       "      <td>0.385845</td>\n",
       "      <td>0.0</td>\n",
       "      <td>0.5</td>\n",
       "      <td>0.694656</td>\n",
       "      <td>0.0</td>\n",
       "      <td>0.000000</td>\n",
       "      <td>1.0</td>\n",
       "      <td>0.000000</td>\n",
       "      <td>0.5</td>\n",
       "      <td>0.0</td>\n",
       "    </tr>\n",
       "    <tr>\n",
       "      <th>154</th>\n",
       "      <td>0.375000</td>\n",
       "      <td>1.0</td>\n",
       "      <td>0.666667</td>\n",
       "      <td>0.339623</td>\n",
       "      <td>0.289954</td>\n",
       "      <td>0.0</td>\n",
       "      <td>0.5</td>\n",
       "      <td>0.824427</td>\n",
       "      <td>0.0</td>\n",
       "      <td>0.000000</td>\n",
       "      <td>1.0</td>\n",
       "      <td>0.000000</td>\n",
       "      <td>0.5</td>\n",
       "      <td>0.0</td>\n",
       "    </tr>\n",
       "    <tr>\n",
       "      <th>16</th>\n",
       "      <td>0.604167</td>\n",
       "      <td>0.0</td>\n",
       "      <td>0.666667</td>\n",
       "      <td>0.245283</td>\n",
       "      <td>0.488584</td>\n",
       "      <td>0.0</td>\n",
       "      <td>0.5</td>\n",
       "      <td>0.770992</td>\n",
       "      <td>0.0</td>\n",
       "      <td>0.000000</td>\n",
       "      <td>1.0</td>\n",
       "      <td>0.000000</td>\n",
       "      <td>0.5</td>\n",
       "      <td>0.0</td>\n",
       "    </tr>\n",
       "    <tr>\n",
       "      <th>262</th>\n",
       "      <td>0.520833</td>\n",
       "      <td>1.0</td>\n",
       "      <td>0.000000</td>\n",
       "      <td>0.264151</td>\n",
       "      <td>0.365297</td>\n",
       "      <td>0.0</td>\n",
       "      <td>0.0</td>\n",
       "      <td>0.343511</td>\n",
       "      <td>1.0</td>\n",
       "      <td>0.516129</td>\n",
       "      <td>0.5</td>\n",
       "      <td>0.666667</td>\n",
       "      <td>0.5</td>\n",
       "      <td>1.0</td>\n",
       "    </tr>\n",
       "    <tr>\n",
       "      <th>33</th>\n",
       "      <td>0.520833</td>\n",
       "      <td>1.0</td>\n",
       "      <td>0.666667</td>\n",
       "      <td>0.292453</td>\n",
       "      <td>0.335616</td>\n",
       "      <td>0.0</td>\n",
       "      <td>0.0</td>\n",
       "      <td>0.618321</td>\n",
       "      <td>0.0</td>\n",
       "      <td>0.080645</td>\n",
       "      <td>0.0</td>\n",
       "      <td>0.333333</td>\n",
       "      <td>0.5</td>\n",
       "      <td>0.0</td>\n",
       "    </tr>\n",
       "  </tbody>\n",
       "</table>\n",
       "</div>"
      ],
      "text/plain": [
       "          Age  Sex  Pain type  Blood pressure  Cholesterol  Blood sugar  ECG  \\\n",
       "130  0.270833  1.0   0.333333        0.245283     0.385845          0.0  0.5   \n",
       "154  0.375000  1.0   0.666667        0.339623     0.289954          0.0  0.5   \n",
       "16   0.604167  0.0   0.666667        0.245283     0.488584          0.0  0.5   \n",
       "262  0.520833  1.0   0.000000        0.264151     0.365297          0.0  0.0   \n",
       "33   0.520833  1.0   0.666667        0.292453     0.335616          0.0  0.0   \n",
       "\n",
       "     Max heart rate  Exercise induced angina  ST depression  ST slope  \\\n",
       "130        0.694656                      0.0       0.000000       1.0   \n",
       "154        0.824427                      0.0       0.000000       1.0   \n",
       "16         0.770992                      0.0       0.000000       1.0   \n",
       "262        0.343511                      1.0       0.516129       0.5   \n",
       "33         0.618321                      0.0       0.080645       0.0   \n",
       "\n",
       "     Number major vessels  Thalassemia  Attack  \n",
       "130              0.000000          0.5     0.0  \n",
       "154              0.000000          0.5     0.0  \n",
       "16               0.000000          0.5     0.0  \n",
       "262              0.666667          0.5     1.0  \n",
       "33               0.333333          0.5     0.0  "
      ]
     },
     "execution_count": 25,
     "metadata": {},
     "output_type": "execute_result"
    }
   ],
   "source": [
    "normalized_df.head()"
   ]
  },
  {
   "cell_type": "markdown",
   "id": "6d476b7b",
   "metadata": {},
   "source": [
    "### KNN-метод "
   ]
  },
  {
   "cell_type": "code",
   "execution_count": 26,
   "id": "53883ce1",
   "metadata": {},
   "outputs": [],
   "source": [
    "class KNN():\n",
    "    def __init__(self, nn=5):\n",
    "        self.nn = nn\n",
    "    def dists(self, X):\n",
    "        num_test = X.shape[0]\n",
    "        num_train = self.X.shape[0]\n",
    "        t = np.dot(X, self.X.T)\n",
    "        dists = np.sqrt(-2 * t + np.square(self.X).sum(1) +\n",
    "        np.matrix(np.square(X).sum(1)).T)\n",
    "        return dists\n",
    "    def fit(self, X, y):  \n",
    "        self.X = X\n",
    "        self.y = y\n",
    "    def predict(self, X):\n",
    "        dists = self.dists(X)\n",
    "        preds = np.zeros(dists.shape[0])\n",
    "        for i in range(dists.shape[0]):\n",
    "            labels = self.y[np.argsort(dists[i, :])].flatten()\n",
    "            top_nn_y = labels[:self.nn]\n",
    "            preds[i] = Counter(top_nn_y).most_common(1)[0][0]\n",
    "        return preds"
   ]
  },
  {
   "cell_type": "markdown",
   "id": "27bb8e0b",
   "metadata": {},
   "source": [
    "### Байесовский классификатор "
   ]
  },
  {
   "cell_type": "code",
   "execution_count": 27,
   "id": "05c86a4b",
   "metadata": {},
   "outputs": [],
   "source": [
    "class NormalDistribution:\n",
    "    def __init__(self, mean, std):\n",
    "        self.mean = mean\n",
    "        self.std = std\n",
    "        \n",
    "    def probability_d(self, value):\n",
    "        return 1 / (self.std * (2 * np.pi) ** 0.5 * np.exp((value - self.mean) ** 2 / (2 * self.std ** 2)))"
   ]
  },
  {
   "cell_type": "code",
   "execution_count": 28,
   "id": "407df220",
   "metadata": {},
   "outputs": [],
   "source": [
    "class NBC:\n",
    "\n",
    "    def __inint__(self):\n",
    "      ...\n",
    "\n",
    "    def fit(self, design_matrix, target):\n",
    "        target=np.array(target)\n",
    "        self.label_prob = {\n",
    "            0: len(target[target == 0]) / len(target),\n",
    "            1: len(target[target == 1]) / len(target)\n",
    "        }\n",
    "        self.cond_prob = {}\n",
    "        for v in (0, 1):\n",
    "            prob = []\n",
    "            for column in range(design_matrix.shape[1]):\n",
    "                feature = design_matrix[target == v, column]\n",
    "                prob.append(NormalDistribution(feature.mean(axis=0), feature.std(axis=0)))\n",
    "            self.cond_prob[v] = prob\n",
    "    \n",
    "    def predict(self, array):\n",
    "        label_prob = {}\n",
    "        res=[]\n",
    "        for j in range(len(array)):\n",
    "          for v in {0, 1}:\n",
    "              cond_feature_prob = 0\n",
    "              for i in range(10):\n",
    "                  cond_feature_prob += np.log(self.cond_prob[v][i].probability_d(array[j][i]))\n",
    "              label_prob[v] = cond_feature_prob + np.log(self.label_prob[v])\n",
    "           \n",
    "          res.append(0 if label_prob[1] < label_prob[0] else 1)\n",
    "        return res"
   ]
  },
  {
   "cell_type": "markdown",
   "id": "caf38797",
   "metadata": {},
   "source": [
    "### Логистическая регрессия"
   ]
  },
  {
   "cell_type": "code",
   "execution_count": 29,
   "id": "ab515b10",
   "metadata": {},
   "outputs": [],
   "source": [
    "class LR():\n",
    "    def __init__(self, lr=0.01, steps=5000):\n",
    "        self.lr = lr\n",
    "        self.steps = steps\n",
    "\n",
    "    def s(self, z):\n",
    "        return 1 / (1 + np.exp(-z))\n",
    "\n",
    "    def fit(self, X, y):\n",
    "        X = np.hstack((np.ones((X.shape[0], 1)), X))\n",
    "        self.coefs = np.zeros(X.shape[1])\n",
    "\n",
    "        for _ in range(self.steps):\n",
    "            h = self.s(np.dot(X, self.coefs))\n",
    "            self.coefs -= self.lr * \\\n",
    "                          np.dot(X.T, (h - y)) / y.size\n",
    "\n",
    "    def predict(self, X):\n",
    "        X = np.hstack((np.ones((X.shape[0], 1)), X))\n",
    "        return self.s(np.dot(X, self.coefs)).round()\n"
   ]
  },
  {
   "cell_type": "markdown",
   "id": "ae6244ea",
   "metadata": {},
   "source": [
    "### Дерево решений"
   ]
  },
  {
   "cell_type": "code",
   "execution_count": 30,
   "id": "5577671e",
   "metadata": {},
   "outputs": [],
   "source": [
    "class Node():\n",
    "    def __init__(self, predicted_class):\n",
    "        self.predicted_class = predicted_class\n",
    "        self.feature_index = 0\n",
    "        self.threshold = 0\n",
    "        self.left = None\n",
    "        self.right = None"
   ]
  },
  {
   "cell_type": "code",
   "execution_count": 31,
   "id": "4948e9be",
   "metadata": {},
   "outputs": [],
   "source": [
    "class DT():\n",
    "    def __init__(self, max_depth=1, rf=False):\n",
    "        self.max_depth = max_depth\n",
    "        self.rf = rf\n",
    "    def fit(self, X, y, max_features=None):\n",
    "        self.n_classes_ = len(set(y))\n",
    "        if not self.rf:\n",
    "            n_features_ = X.shape[1]\n",
    "        else:\n",
    "            ind = np.random.choice(X.shape[0], X.shape[0])\n",
    "            X, y = X[tuple([ind])], y[tuple([ind])]\n",
    "            if max_features is None:\n",
    "                n_features_ = np.sqrt(X.shape[1]).astype(int)\n",
    "            else:\n",
    "                n_features_ = max_features\n",
    "        self.features_ = np.sort(np.random.choice(X.shape[1], n_features_,\n",
    "                                                  replace=False))\n",
    "        self.tree_ = self._grow_tree(X, y)\n",
    "                \n",
    "    def predict(self, X):\n",
    "        return [self._predict(inputs) for inputs in X]\n",
    "    \n",
    "    def _best_split(self, X, y):\n",
    "        m = y.size\n",
    "        if m <= 1:\n",
    "            return None, None\n",
    "        num_parent = [np.sum(y == c) for c in range(self.n_classes_)]\n",
    "        best_gini = 1.0 - sum((n / m) ** 2 for n in num_parent)\n",
    "        best_idx, best_thr = None, None\n",
    "        for idx in self.features_:\n",
    "            thresholds, classes = zip(*sorted(zip(X[:, idx], y)))\n",
    "            num_left = [0] * self.n_classes_\n",
    "            num_right = num_parent.copy()\n",
    "            for i in range(1, m):\n",
    "                c = classes[i - 1]\n",
    "                num_left[c] += 1\n",
    "                num_right[c] -= 1\n",
    "                gini_left = 1.0 - sum(\n",
    "                    (num_left[x] / i) ** 2 for x in range(self.n_classes_)\n",
    "                )\n",
    "                gini_right = 1.0 - sum(\n",
    "                    (num_right[x] / (m - i)) ** 2 for x in range(self.n_classes_)\n",
    "                )\n",
    "                gini = (i * gini_left + (m - i) * gini_right) / m\n",
    "                if thresholds[i] == thresholds[i - 1]:\n",
    "                    continue\n",
    "                if gini < best_gini:\n",
    "                    best_gini = gini\n",
    "                    best_idx = idx\n",
    "                    best_thr = (thresholds[i] + thresholds[i - 1]) / 2\n",
    "        return best_idx, best_thr\n",
    "    \n",
    "    def _grow_tree(self, X, y, depth=0):\n",
    "        num_samples_per_class = [np.sum(y == i)\n",
    "                                 for i in range(self.n_classes_)]\n",
    "        predicted_class = np.argmax(num_samples_per_class)\n",
    "        node = Node(predicted_class=predicted_class)\n",
    "        if depth < self.max_depth:\n",
    "            idx, thr = self._best_split(X, y)\n",
    "            if idx is not None:\n",
    "                indices_left = X[:, idx] < thr\n",
    "                X_left, y_left = X[indices_left], y[indices_left]\n",
    "                X_right, y_right = X[~indices_left], y[~indices_left]\n",
    "                node.feature_index = idx\n",
    "                node.threshold = thr\n",
    "                node.left = self._grow_tree(X_left, y_left, depth + 1)\n",
    "                node.right = self._grow_tree(X_right, y_right, depth + 1)\n",
    "        return node\n",
    "\n",
    "    def _predict(self, inputs):\n",
    "        node = self.tree_\n",
    "        while node.left:\n",
    "            if inputs[node.feature_index] < node.threshold:\n",
    "                node = node.left\n",
    "            else:\n",
    "                node = node.right\n",
    "        return node.predicted_class"
   ]
  },
  {
   "cell_type": "markdown",
   "id": "4a5831db",
   "metadata": {},
   "source": [
    "### Random forest"
   ]
  },
  {
   "cell_type": "code",
   "execution_count": 72,
   "id": "b2c2e709",
   "metadata": {},
   "outputs": [],
   "source": [
    "class RF:\n",
    "    \n",
    "    def __init__(self, n_estimators=2, bootstrap=0.5):\n",
    "        self.n_estimators = n_estimators\n",
    "        self.bootstrap = bootstrap\n",
    "        self.forest = []\n",
    "    \n",
    "    \n",
    "    def fit(self, Xl, yl):\n",
    "        X = np.array(Xl)\n",
    "        y = np.array(yl)\n",
    "        self.forest = []\n",
    "        n_samples = len(y)\n",
    "        n_sub_samples = round(n_samples*self.bootstrap)\n",
    "        \n",
    "        for i in range(self.n_estimators):\n",
    "            X_subset = X[:n_sub_samples]\n",
    "            y_subset = y[:n_sub_samples]\n",
    "            \n",
    "            tree_ = tree.DecisionTreeClassifier(max_depth=2)\n",
    "            tree_.fit(X_subset, y_subset)\n",
    "            self.forest.append(tree_)\n",
    "        return self\n",
    "    \n",
    "    \n",
    "    def predict(self, X):\n",
    "        n_samples = X.shape[0]\n",
    "        n_trees = len(self.forest)\n",
    "        predictions = np.empty([n_trees, n_samples])\n",
    "        for i in range(n_trees):\n",
    "            predictions[i] = self.forest[i].predict(X)\n",
    "        \n",
    "        return mode(predictions)[0][0]\n",
    "    \n",
    "    \n",
    "    def score(self, Xl, yl):\n",
    "        X = np.array(Xl)\n",
    "        y = np.array(yl)\n",
    "        y_predict = self.predict(X)\n",
    "        n_samples = len(y)\n",
    "        correct = 0\n",
    "        for i in range(n_samples):\n",
    "            if y_predict[i] == y[i]:\n",
    "                correct = correct + 1\n",
    "        accuracy = correct/n_samples\n",
    "        return accuracy"
   ]
  },
  {
   "cell_type": "markdown",
   "id": "c4937b3a",
   "metadata": {},
   "source": [
    "## Сравнение результатов с sklearn"
   ]
  },
  {
   "cell_type": "code",
   "execution_count": 62,
   "id": "98a3fff7",
   "metadata": {
    "scrolled": true
   },
   "outputs": [
    {
     "name": "stdout",
     "output_type": "stream",
     "text": [
      "My KNN accuracy:  0.7972316384180791\n",
      "Precision:  0.7868981937602626\n",
      "Recall:  0.762909090909091\n",
      "CPU times: user 93.1 ms, sys: 5.43 ms, total: 98.5 ms\n",
      "Wall time: 54 ms\n"
     ]
    }
   ],
   "source": [
    "%%time\n",
    "model = KNN(nn=5)\n",
    "values = results(model, X2, y2)\n",
    "print(\"My KNN accuracy: \", values[0].mean())\n",
    "print(\"Precision: \", values[1].mean())\n",
    "print(\"Recall: \", values[2].mean())"
   ]
  },
  {
   "cell_type": "code",
   "execution_count": 63,
   "id": "0b8d64e1",
   "metadata": {
    "scrolled": true
   },
   "outputs": [
    {
     "name": "stdout",
     "output_type": "stream",
     "text": [
      "Sklearn accuracy:  0.7972316384180791\n",
      "Precision:  0.7868981937602626\n",
      "Recall:  0.762909090909091\n",
      "CPU times: user 54.2 ms, sys: 8.11 ms, total: 62.3 ms\n",
      "Wall time: 62 ms\n"
     ]
    }
   ],
   "source": [
    "%%time\n",
    "model = KNeighborsClassifier(n_neighbors=5)\n",
    "values = results(model, X2, y2)\n",
    "print(\"Sklearn accuracy: \", values[0].mean())\n",
    "print(\"Precision: \", values[1].mean())\n",
    "print(\"Recall: \", values[2].mean())"
   ]
  },
  {
   "cell_type": "markdown",
   "id": "94999e60",
   "metadata": {},
   "source": [
    "И реализованный и библиотечный алгоритм показали хорошую точность "
   ]
  },
  {
   "cell_type": "code",
   "execution_count": 64,
   "id": "226dbcf6",
   "metadata": {},
   "outputs": [
    {
     "name": "stdout",
     "output_type": "stream",
     "text": [
      "My Naive Bayes Classifier accuracy:  0.7973446327683615\n",
      "Precision:  0.8113952713952715\n",
      "Recall:  0.7263549783549784\n",
      "CPU times: user 75.3 ms, sys: 5.49 ms, total: 80.8 ms\n",
      "Wall time: 81.4 ms\n"
     ]
    }
   ],
   "source": [
    "%%time\n",
    "model = NBC()\n",
    "values = results(model, X2, y2)\n",
    "print(\"My Naive Bayes Classifier accuracy: \", values[0].mean())\n",
    "print(\"Precision: \", values[1].mean())\n",
    "print(\"Recall: \", values[2].mean())"
   ]
  },
  {
   "cell_type": "code",
   "execution_count": 65,
   "id": "1c5d1b18",
   "metadata": {},
   "outputs": [
    {
     "name": "stdout",
     "output_type": "stream",
     "text": [
      "Sklearn Naive Bayes Classifier accuracy:  0.8310169491525425\n",
      "Precision:  0.8443345543345544\n",
      "Recall:  0.7754285714285716\n",
      "CPU times: user 43.1 ms, sys: 4.76 ms, total: 47.9 ms\n",
      "Wall time: 46.8 ms\n"
     ]
    }
   ],
   "source": [
    "%%time\n",
    "model = GaussianNB()\n",
    "values = results(model, X2, y2)\n",
    "print(\"Sklearn Naive Bayes Classifier accuracy: \", values[0].mean())\n",
    "print(\"Precision: \", values[1].mean())\n",
    "print(\"Recall: \", values[2].mean())"
   ]
  },
  {
   "cell_type": "markdown",
   "id": "0b258f48",
   "metadata": {},
   "source": [
    "Собственная реализация алгоритма байесовского классифакатора выдает практически такую же точность, что и в sklearn, но оказалась более медленной"
   ]
  },
  {
   "cell_type": "code",
   "execution_count": 66,
   "id": "16e312e7",
   "metadata": {},
   "outputs": [
    {
     "name": "stdout",
     "output_type": "stream",
     "text": [
      "My Logistic Regression Accuracy:  0.8310734463276838\n",
      "Precision:  0.8474501424501424\n",
      "Recall:  0.7845541125541126\n",
      "CPU times: user 368 ms, sys: 5.92 ms, total: 374 ms\n",
      "Wall time: 375 ms\n"
     ]
    }
   ],
   "source": [
    "%%time\n",
    "model = LR()\n",
    "values = results(model, X2, y2)\n",
    "print(\"My Logistic Regression Accuracy: \", values[0].mean())\n",
    "print(\"Precision: \", values[1].mean())\n",
    "print(\"Recall: \", values[2].mean())"
   ]
  },
  {
   "cell_type": "code",
   "execution_count": 67,
   "id": "a6e93285",
   "metadata": {},
   "outputs": [
    {
     "name": "stdout",
     "output_type": "stream",
     "text": [
      "Sklearn Logistic Regression Accuracy:  0.8344067796610171\n",
      "Precision:  0.862983682983683\n",
      "Recall:  0.7750303030303031\n",
      "CPU times: user 135 ms, sys: 8.37 ms, total: 143 ms\n",
      "Wall time: 80.6 ms\n"
     ]
    }
   ],
   "source": [
    "%%time\n",
    "model = LogisticRegression()\n",
    "values = results(model, X2, y2)\n",
    "print(\"Sklearn Logistic Regression Accuracy: \", values[0].mean())\n",
    "print(\"Precision: \", values[1].mean())\n",
    "print(\"Recall: \", values[2].mean())"
   ]
  },
  {
   "cell_type": "markdown",
   "id": "bfccaf3a",
   "metadata": {},
   "source": [
    "Результаты по точности так же практически одинаковые, собственная реализация заметно медленнее"
   ]
  },
  {
   "cell_type": "code",
   "execution_count": 68,
   "id": "430b7ae5",
   "metadata": {},
   "outputs": [
    {
     "name": "stdout",
     "output_type": "stream",
     "text": [
      "My Decision Tree Accuracy:  0.7263841807909603\n",
      "Precision:  0.7157154467499296\n",
      "Recall:  0.6693254566783978\n",
      "CPU times: user 113 ms, sys: 5.33 ms, total: 118 ms\n",
      "Wall time: 116 ms\n"
     ]
    }
   ],
   "source": [
    "%%time\n",
    "model = DT()\n",
    "values = results(model, X, y)\n",
    "print(\"My Decision Tree Accuracy: \", values[0].mean())\n",
    "print(\"Precision: \", values[1].mean())\n",
    "print(\"Recall: \", values[2].mean())"
   ]
  },
  {
   "cell_type": "code",
   "execution_count": 69,
   "id": "c4f9346e",
   "metadata": {},
   "outputs": [
    {
     "name": "stdout",
     "output_type": "stream",
     "text": [
      "Sklearn Decision Tree Accuracy:  0.8005084745762712\n",
      "Precision:  0.820267475349145\n",
      "Recall:  0.7230030165912518\n",
      "CPU times: user 42 ms, sys: 4.24 ms, total: 46.3 ms\n",
      "Wall time: 45 ms\n"
     ]
    }
   ],
   "source": [
    "%%time\n",
    "model = DecisionTreeClassifier(max_depth=3)\n",
    "values = results(model, X, y)\n",
    "print(\"Sklearn Decision Tree Accuracy: \", values[0].mean())\n",
    "print(\"Precision: \", values[1].mean())\n",
    "print(\"Recall: \", values[2].mean())"
   ]
  },
  {
   "cell_type": "markdown",
   "id": "60a5990c",
   "metadata": {},
   "source": [
    "Библиотечная реализация оказалась точнее и быстрее"
   ]
  },
  {
   "cell_type": "code",
   "execution_count": 73,
   "id": "9e72b738",
   "metadata": {
    "scrolled": true
   },
   "outputs": [
    {
     "name": "stdout",
     "output_type": "stream",
     "text": [
      "My Random Forest Accuracy:  0.7031073446327685\n",
      "Precision:  0.7765350877192982\n",
      "Recall:  0.4819220779220779\n"
     ]
    }
   ],
   "source": [
    "\n",
    "model = RF()\n",
    "values = results(model, X2, y2)\n",
    "print(\"My Random Forest Accuracy: \", values[0].mean())\n",
    "print(\"Precision: \", values[1].mean())\n",
    "print(\"Recall: \", values[2].mean())"
   ]
  },
  {
   "cell_type": "code",
   "execution_count": 71,
   "id": "ba0ed084",
   "metadata": {},
   "outputs": [
    {
     "name": "stdout",
     "output_type": "stream",
     "text": [
      "Sklearn Random Forest Accuracy:  0.8142372881355933\n",
      "Precision:  0.8118602150537635\n",
      "Recall:  0.7807445887445887\n"
     ]
    }
   ],
   "source": [
    "model = RandomForestClassifier()\n",
    "values = results(model, X2, y2)\n",
    "print(\"Sklearn Random Forest Accuracy: \", values[0].mean())\n",
    "print(\"Precision: \", values[1].mean())\n",
    "print(\"Recall: \", values[2].mean())"
   ]
  },
  {
   "cell_type": "markdown",
   "id": "3513869c",
   "metadata": {},
   "source": [
    "Sklearn заметно превосходит реализацию"
   ]
  },
  {
   "cell_type": "markdown",
   "id": "a816c14f",
   "metadata": {},
   "source": [
    "##### Sklearn по тем или иным пунктам превосходит реализованные классификаторы, но отставание по точности почти во всех случаях минимально, для ликвидации отставания по времени нужна оптимизация"
   ]
  }
 ],
 "metadata": {
  "kernelspec": {
   "display_name": "Python 3",
   "language": "python",
   "name": "python3"
  },
  "language_info": {
   "codemirror_mode": {
    "name": "ipython",
    "version": 3
   },
   "file_extension": ".py",
   "mimetype": "text/x-python",
   "name": "python",
   "nbconvert_exporter": "python",
   "pygments_lexer": "ipython3",
   "version": "3.8.8"
  }
 },
 "nbformat": 4,
 "nbformat_minor": 5
}
